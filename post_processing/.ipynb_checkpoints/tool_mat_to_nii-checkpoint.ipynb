{
 "cells": [
  {
   "cell_type": "code",
   "execution_count": 2,
   "metadata": {},
   "outputs": [],
   "source": [
    "import numpy as np\n",
    "import function_list as ff\n",
    "import os\n",
    "import scipy.io\n",
    "import nibabel as nb"
   ]
  },
  {
   "cell_type": "code",
   "execution_count": 3,
   "metadata": {},
   "outputs": [
    {
     "name": "stdout",
     "output_type": "stream",
     "text": [
      "(50,)\n"
     ]
    }
   ],
   "source": [
    "main_path ='/Volumes/Seagate_5T/Ashish_ResyncCT/predicted_seg/';\n",
    "patient_list = ff.find_all_target_files(['*/*'],main_path)\n",
    "print(patient_list.shape)"
   ]
  },
  {
   "cell_type": "code",
   "execution_count": 4,
   "metadata": {},
   "outputs": [
    {
     "name": "stdout",
     "output_type": "stream",
     "text": [
      "noMC\n",
      "wMC\n",
      "noMC\n",
      "wMC\n",
      "noMC\n",
      "wMC\n",
      "noMC\n",
      "wMC\n",
      "noMC\n",
      "wMC\n",
      "noMC\n",
      "wMC\n",
      "noMC\n",
      "wMC\n",
      "noMC\n",
      "wMC\n",
      "noMC\n",
      "wMC\n",
      "noMC\n",
      "wMC\n",
      "noMC\n",
      "wMC\n",
      "noMC\n",
      "wMC\n",
      "noMC\n",
      "wMC\n",
      "noMC\n",
      "wMC\n",
      "noMC\n",
      "wMC\n",
      "noMC\n",
      "wMC\n",
      "noMC\n",
      "wMC\n",
      "noMC\n",
      "wMC\n",
      "noMC\n",
      "wMC\n",
      "noMC\n",
      "wMC\n",
      "noMC\n",
      "wMC\n",
      "noMC\n",
      "wMC\n",
      "noMC\n",
      "wMC\n",
      "noMC\n",
      "wMC\n",
      "noMC\n",
      "wMC\n"
     ]
    }
   ],
   "source": [
    "for i in range(0,patient_list.shape[0]):\n",
    "    p = patient_list[i]\n",
    "    patient_id = os.path.basename(p)\n",
    "    \n",
    "\n",
    "    if os.path.isdir(os.path.join(p,'seg-pred-0.625-4classes-raw')) == 1 and os.path.isdir(os.path.join(p,'seg-pred-0.625-4classes-connected-mat')) == 1:\n",
    "        print(patient_id)\n",
    "        if os.path.isfile(os.path.join(p,'seg-pred-0.625-4classes-connected-final','pred_s_0.nii.gz')):\n",
    "            print('already done')\n",
    "            continue\n",
    "        \n",
    "        mat_folder = os.path.join(p,'seg-pred-0.625-4classes-connected-mat')\n",
    "        mat_list = ff.sort_timeframe(ff.find_all_target_files(['*.mat'],mat_folder),1,'_')\n",
    "        for m in mat_list:\n",
    "            t = ff.find_timeframe(m,1,'_')\n",
    "            ##########\n",
    "            data = scipy.io.loadmat(m) \n",
    "            data = data['image']\n",
    "            ##########\n",
    "            \n",
    "            # load corresponding nii file for affine matrix\n",
    "            seg_file = nb.load(os.path.join(p,'seg-pred-0.625-4classes-raw','pred_s_'+str(t)+'.nii.gz'))\n",
    "            seg_connected = nb.Nifti1Image(data, seg_file.affine)\n",
    "            # save\n",
    "            save_file = os.path.join(p,'seg-pred-0.625-4classes-connected-final','pred_s_'+str(t)+'.nii.gz')\n",
    "            if os.path.isfile(save_file) == 1:\n",
    "                continue\n",
    "            else:\n",
    "                os.makedirs(os.path.dirname(save_file), exist_ok = True)\n",
    "                nb.save(seg_connected, save_file)\n",
    "            \n",
    "  "
   ]
  },
  {
   "cell_type": "code",
   "execution_count": null,
   "metadata": {},
   "outputs": [],
   "source": []
  }
 ],
 "metadata": {
  "kernelspec": {
   "display_name": "Python 3",
   "language": "python",
   "name": "python3"
  },
  "language_info": {
   "codemirror_mode": {
    "name": "ipython",
    "version": 3
   },
   "file_extension": ".py",
   "mimetype": "text/x-python",
   "name": "python",
   "nbconvert_exporter": "python",
   "pygments_lexer": "ipython3",
   "version": "3.8.5"
  }
 },
 "nbformat": 4,
 "nbformat_minor": 4
}
